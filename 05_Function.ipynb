{
 "cells": [
  {
   "cell_type": "code",
   "execution_count": 1,
   "id": "07ed0b33",
   "metadata": {},
   "outputs": [
    {
     "name": "stdout",
     "output_type": "stream",
     "text": [
      "Hello Barakath\n"
     ]
    }
   ],
   "source": [
    "def greet(name=\"Barakath\"):\n",
    "    print(f\"Hello {name}\")\n",
    "greet()"
   ]
  },
  {
   "cell_type": "code",
   "execution_count": 2,
   "id": "a0403bd8",
   "metadata": {},
   "outputs": [
    {
     "name": "stdout",
     "output_type": "stream",
     "text": [
      "5\n",
      "3\n",
      "2\n",
      "3\n",
      "Barakath\n"
     ]
    }
   ],
   "source": [
    "# variable length args \n",
    "# Positional and Keyword Args \n",
    "\n",
    "def print_num(*barakath):\n",
    "    for number in barakath:\n",
    "        print(number)\n",
    "\n",
    "print_num(5,3,2,3,\"Barakath\")"
   ]
  },
  {
   "cell_type": "code",
   "execution_count": 3,
   "id": "dcbf0b47",
   "metadata": {},
   "outputs": [
    {
     "name": "stdout",
     "output_type": "stream",
     "text": [
      "5\n",
      "3\n",
      "2\n",
      "3\n",
      "Barakath\n"
     ]
    }
   ],
   "source": [
    "# variable length args \n",
    "# Positional and Keyword Args \n",
    "\n",
    "def print_num(*args):\n",
    "    for number in args:\n",
    "        print(number)\n",
    "\n",
    "print_num(5,3,2,3,\"Barakath\")"
   ]
  },
  {
   "cell_type": "code",
   "execution_count": 5,
   "id": "037e7568",
   "metadata": {},
   "outputs": [
    {
     "name": "stdout",
     "output_type": "stream",
     "text": [
      "name Barakath\n",
      "Country India\n"
     ]
    }
   ],
   "source": [
    "def print_info(**kwargs):\n",
    "    for key,value in kwargs.items():\n",
    "        print(key, value)\n",
    "\n",
    "print_info(name=\"Barakath\", Country=\"India\")"
   ]
  },
  {
   "cell_type": "code",
   "execution_count": 1,
   "id": "a71fa1e1",
   "metadata": {},
   "outputs": [
    {
     "name": "stdout",
     "output_type": "stream",
     "text": [
      "value: 1\n",
      "value: 3\n",
      "value: 4\n",
      "value: hello world\n",
      "name Barakath\n",
      "Country India\n"
     ]
    }
   ],
   "source": [
    "def print_info(*args, **kwargs):\n",
    "    for val in args:\n",
    "        print(\"value:\",val)\n",
    "    for key,value in kwargs.items():\n",
    "        print(key, value)\n",
    "\n",
    "print_info(1,3,4,\"hello world\",name=\"Barakath\", Country=\"India\")"
   ]
  },
  {
   "cell_type": "code",
   "execution_count": null,
   "id": "244decdc",
   "metadata": {},
   "outputs": [
    {
     "data": {
      "text/plain": [
       "'77.0 F'"
      ]
     },
     "execution_count": 3,
     "metadata": {},
     "output_type": "execute_result"
    }
   ],
   "source": [
    "def conv_temp(temp, unit):\n",
    "    \"\"\"Convert temp to Celcuis/ Farhenheit\"\"\"\n",
    "    if unit == 'C':\n",
    "        return str(temp * 9/5 +32) + \" F\"\n",
    "    elif unit == \"F\":\n",
    "        return (temp- 32)* 5/9\n",
    "    else: return None\n",
    "conv_temp(25,'C')"
   ]
  },
  {
   "cell_type": "code",
   "execution_count": null,
   "id": "5c3f01fa",
   "metadata": {},
   "outputs": [],
   "source": []
  }
 ],
 "metadata": {
  "kernelspec": {
   "display_name": "Python 3",
   "language": "python",
   "name": "python3"
  },
  "language_info": {
   "codemirror_mode": {
    "name": "ipython",
    "version": 3
   },
   "file_extension": ".py",
   "mimetype": "text/x-python",
   "name": "python",
   "nbconvert_exporter": "python",
   "pygments_lexer": "ipython3",
   "version": "3.10.0"
  }
 },
 "nbformat": 4,
 "nbformat_minor": 5
}
