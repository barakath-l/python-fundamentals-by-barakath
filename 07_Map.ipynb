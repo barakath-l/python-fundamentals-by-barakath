{
 "cells": [
  {
   "cell_type": "code",
   "execution_count": 1,
   "id": "42f4e855",
   "metadata": {},
   "outputs": [
    {
     "data": {
      "text/plain": [
       "100"
      ]
     },
     "execution_count": 1,
     "metadata": {},
     "output_type": "execute_result"
    }
   ],
   "source": [
    "def square(x):\n",
    "    return x* x\n",
    "square(10)"
   ]
  },
  {
   "cell_type": "code",
   "execution_count": 5,
   "id": "83e3b03b",
   "metadata": {},
   "outputs": [
    {
     "data": {
      "text/plain": [
       "[1, 4, 9, 16, 25, 36, 49, 64, 81]"
      ]
     },
     "execution_count": 5,
     "metadata": {},
     "output_type": "execute_result"
    }
   ],
   "source": [
    "numbers=[x for x in range(1,10)]\n",
    "list(map(square, numbers))"
   ]
  },
  {
   "cell_type": "code",
   "execution_count": 6,
   "id": "6e6ecfe1",
   "metadata": {},
   "outputs": [
    {
     "data": {
      "text/plain": [
       "[0, 1, 4, 9, 16, 25, 36, 49, 64, 81]"
      ]
     },
     "execution_count": 6,
     "metadata": {},
     "output_type": "execute_result"
    }
   ],
   "source": [
    "numbers=[x for x in range(10)]\n",
    "list(map(lambda x:x**2,numbers))"
   ]
  },
  {
   "cell_type": "code",
   "execution_count": 10,
   "id": "dc945637",
   "metadata": {},
   "outputs": [
    {
     "data": {
      "text/plain": [
       "[2, 5, 6]"
      ]
     },
     "execution_count": 10,
     "metadata": {},
     "output_type": "execute_result"
    }
   ],
   "source": [
    "num1 = [1,3,4,4]\n",
    "num2 = [1,2,2]\n",
    "\n",
    "add = list(map(lambda x,y:x+y, num1,num2))\n",
    "add"
   ]
  },
  {
   "cell_type": "code",
   "execution_count": 11,
   "id": "4192b5ed",
   "metadata": {},
   "outputs": [
    {
     "data": {
      "text/plain": [
       "[0, 1, 2, 3, 4, 5, 6, 7, 8, 9]"
      ]
     },
     "execution_count": 11,
     "metadata": {},
     "output_type": "execute_result"
    }
   ],
   "source": [
    "str_num = [str(x) for x in range(10)]\n",
    "int_num = list(map(int,str_num))\n",
    "int_num"
   ]
  },
  {
   "cell_type": "code",
   "execution_count": 12,
   "id": "e6d93ce3",
   "metadata": {},
   "outputs": [
    {
     "data": {
      "text/plain": [
       "['APPLE', 'BANANA', 'CHERRY']"
      ]
     },
     "execution_count": 12,
     "metadata": {},
     "output_type": "execute_result"
    }
   ],
   "source": [
    "words = ['apple', 'banana', 'cherry']\n",
    "upper_words = list(map(str.upper,words))\n",
    "upper_words"
   ]
  },
  {
   "cell_type": "code",
   "execution_count": 13,
   "id": "2445ac6b",
   "metadata": {},
   "outputs": [
    {
     "data": {
      "text/plain": [
       "['Barakath', 'Ganesh']"
      ]
     },
     "execution_count": 13,
     "metadata": {},
     "output_type": "execute_result"
    }
   ],
   "source": [
    "def get_name(people):\n",
    "    return people['name']\n",
    "people = [\n",
    "    {\"name\":\"Barakath\", \"age\":24},\n",
    "    {\"name\":\"Ganesh\", \"age\":35}\n",
    "]\n",
    "list(map(get_name,people))"
   ]
  },
  {
   "cell_type": "code",
   "execution_count": null,
   "id": "89fb5e72",
   "metadata": {},
   "outputs": [],
   "source": []
  }
 ],
 "metadata": {
  "kernelspec": {
   "display_name": "Python 3",
   "language": "python",
   "name": "python3"
  },
  "language_info": {
   "codemirror_mode": {
    "name": "ipython",
    "version": 3
   },
   "file_extension": ".py",
   "mimetype": "text/x-python",
   "name": "python",
   "nbconvert_exporter": "python",
   "pygments_lexer": "ipython3",
   "version": "3.10.0"
  }
 },
 "nbformat": 4,
 "nbformat_minor": 5
}
