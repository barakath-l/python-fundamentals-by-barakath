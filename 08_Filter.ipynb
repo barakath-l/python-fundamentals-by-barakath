{
 "cells": [
  {
   "cell_type": "code",
   "execution_count": 4,
   "id": "cd677aa4",
   "metadata": {},
   "outputs": [
    {
     "data": {
      "text/plain": [
       "True"
      ]
     },
     "execution_count": 4,
     "metadata": {},
     "output_type": "execute_result"
    }
   ],
   "source": [
    "def even(num):\n",
    "    if num%2==0: return True\n",
    "even(24)"
   ]
  },
  {
   "cell_type": "code",
   "execution_count": 5,
   "id": "76d2c16c",
   "metadata": {},
   "outputs": [
    {
     "data": {
      "text/plain": [
       "[8, 8, 6, 6, 4, 6, 12, 10, 12, 14]"
      ]
     },
     "execution_count": 5,
     "metadata": {},
     "output_type": "execute_result"
    }
   ],
   "source": [
    "import random\n",
    "lst =[random.randint(x,x+10) for x in range(10) ]\n",
    "list(filter(even,lst))"
   ]
  },
  {
   "cell_type": "code",
   "execution_count": 6,
   "id": "836be9e9",
   "metadata": {},
   "outputs": [
    {
     "data": {
      "text/plain": [
       "[8, 8, 6, 6, 6, 12, 10, 12, 14]"
      ]
     },
     "execution_count": 6,
     "metadata": {},
     "output_type": "execute_result"
    }
   ],
   "source": [
    "greater_thn_five = list(filter(lambda x:x>5,lst))\n",
    "greater_thn_five"
   ]
  },
  {
   "cell_type": "code",
   "execution_count": 8,
   "id": "e6b2671b",
   "metadata": {},
   "outputs": [
    {
     "data": {
      "text/plain": [
       "[8, 8, 6, 6, 6, 12, 10, 12, 14]"
      ]
     },
     "execution_count": 8,
     "metadata": {},
     "output_type": "execute_result"
    }
   ],
   "source": [
    "even_and_greaterthnfive = list(filter(lambda x:x>5 and x%2==0, lst))\n",
    "even_and_greaterthnfive"
   ]
  },
  {
   "cell_type": "code",
   "execution_count": 15,
   "id": "b283af55",
   "metadata": {},
   "outputs": [
    {
     "data": {
      "text/plain": [
       "[{'name': 'Ganesh', 'age': 35}, {'name': 'Ganesh', 'age': 28}]"
      ]
     },
     "execution_count": 15,
     "metadata": {},
     "output_type": "execute_result"
    }
   ],
   "source": [
    "#filter to check if age is greater thn 25 in dict \n",
    "def get_age_grts_thn_25(people):\n",
    "    return people['age']>25\n",
    "people = [\n",
    "    {\"name\":\"Barakath\", \"age\":24},\n",
    "    {\"name\":\"Ganesh\", \"age\":35},\n",
    "    {\"name\":\"Ganesh\", \"age\":28}\n",
    "]\n",
    "\n",
    "list(filter(get_age_grts_thn_25,people))"
   ]
  },
  {
   "cell_type": "code",
   "execution_count": null,
   "id": "663e06c6",
   "metadata": {},
   "outputs": [],
   "source": []
  }
 ],
 "metadata": {
  "kernelspec": {
   "display_name": "Python 3",
   "language": "python",
   "name": "python3"
  },
  "language_info": {
   "codemirror_mode": {
    "name": "ipython",
    "version": 3
   },
   "file_extension": ".py",
   "mimetype": "text/x-python",
   "name": "python",
   "nbconvert_exporter": "python",
   "pygments_lexer": "ipython3",
   "version": "3.10.0"
  }
 },
 "nbformat": 4,
 "nbformat_minor": 5
}
