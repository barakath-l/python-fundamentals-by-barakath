{
 "cells": [
  {
   "cell_type": "markdown",
   "id": "a5cffee7",
   "metadata": {},
   "source": [
    "##### Python Sets\n",
    "\n",
    "- **Unordered**: Sets do not maintain any order of elements.\n",
    "- **No Duplicates**: A set automatically removes duplicate values.\n",
    "- **Membership Tests**: You can check if an item exists in a set using the `in` keyword.\n",
    "- **Duplicate Elimination**: Converting a list to a set removes duplicates.\n",
    "\n",
    "##### Set Operations (Mathematical)\n",
    "\n",
    "- **Union (`|` or `.union()`):** Combines all unique elements from both sets.\n",
    "- **Intersection (`&` or `.intersection()`):** Returns elements common to both sets.\n",
    "- **Difference (`-` or `.difference()`):** Elements in one set but not the other.\n",
    "- **Symmetric Difference (`^` or `.symmetric_difference()`):** Elements in either set, but not both.\n"
   ]
  },
  {
   "cell_type": "code",
   "execution_count": 2,
   "id": "e8c241a0",
   "metadata": {},
   "outputs": [
    {
     "name": "stdout",
     "output_type": "stream",
     "text": [
      "{1, 2, 3, 4}\n",
      "<class 'set'>\n"
     ]
    }
   ],
   "source": [
    "myset = {1,2,3,4}\n",
    "print(myset)\n",
    "print(type(myset))"
   ]
  },
  {
   "cell_type": "code",
   "execution_count": 5,
   "id": "aa2477ee",
   "metadata": {},
   "outputs": [
    {
     "name": "stdout",
     "output_type": "stream",
     "text": [
      "<class 'set'>\n"
     ]
    }
   ],
   "source": [
    "emptySet = set()\n",
    "print(type(emptySet))"
   ]
  },
  {
   "cell_type": "code",
   "execution_count": 7,
   "id": "a23021c4",
   "metadata": {},
   "outputs": [
    {
     "name": "stdout",
     "output_type": "stream",
     "text": [
      "{1, 2, 3, 4, 5, 6}\n"
     ]
    }
   ],
   "source": [
    "mySet = set([1,2,3,4,5,6])\n",
    "print(mySet)"
   ]
  },
  {
   "cell_type": "code",
   "execution_count": 8,
   "id": "9bec27dc",
   "metadata": {},
   "outputs": [
    {
     "name": "stdout",
     "output_type": "stream",
     "text": [
      "{1, 2, 3, 4, 5, 6}\n"
     ]
    }
   ],
   "source": [
    "mySet = set([1,2,3,4,4,5,6,5,6])\n",
    "print(mySet)"
   ]
  },
  {
   "cell_type": "code",
   "execution_count": 11,
   "id": "d578e43f",
   "metadata": {},
   "outputs": [
    {
     "name": "stdout",
     "output_type": "stream",
     "text": [
      "{1, 2, 3, 4, 5, 6, 7}\n",
      "{1, 2, 3, 4, 5, 6, 7}\n"
     ]
    }
   ],
   "source": [
    "mySet.add(7)\n",
    "print(mySet)\n",
    "mySet.add(7)\n",
    "print(mySet)"
   ]
  },
  {
   "cell_type": "code",
   "execution_count": 12,
   "id": "afe3250a",
   "metadata": {},
   "outputs": [
    {
     "data": {
      "text/plain": [
       "{1, 2, 4, 5, 6, 7}"
      ]
     },
     "execution_count": 12,
     "metadata": {},
     "output_type": "execute_result"
    }
   ],
   "source": [
    "mySet.remove(3)\n",
    "mySet"
   ]
  },
  {
   "cell_type": "code",
   "execution_count": 13,
   "id": "041da278",
   "metadata": {},
   "outputs": [
    {
     "ename": "KeyError",
     "evalue": "10",
     "output_type": "error",
     "traceback": [
      "\u001b[1;31m---------------------------------------------------------------------------\u001b[0m",
      "\u001b[1;31mKeyError\u001b[0m                                  Traceback (most recent call last)",
      "Cell \u001b[1;32mIn[13], line 1\u001b[0m\n\u001b[1;32m----> 1\u001b[0m \u001b[43mmySet\u001b[49m\u001b[38;5;241;43m.\u001b[39;49m\u001b[43mremove\u001b[49m\u001b[43m(\u001b[49m\u001b[38;5;241;43m10\u001b[39;49m\u001b[43m)\u001b[49m\n",
      "\u001b[1;31mKeyError\u001b[0m: 10"
     ]
    }
   ],
   "source": [
    "mySet.remove(10)"
   ]
  },
  {
   "cell_type": "code",
   "execution_count": 15,
   "id": "8573b470",
   "metadata": {},
   "outputs": [
    {
     "name": "stdout",
     "output_type": "stream",
     "text": [
      "{1, 2, 4, 5, 6, 7}\n",
      "{1, 2, 4, 5, 6, 7}\n",
      "{1, 2, 4, 5, 6}\n"
     ]
    }
   ],
   "source": [
    "print(mySet)\n",
    "mySet.discard(11)\n",
    "print(mySet)\n",
    "mySet.discard(7)\n",
    "print(mySet)"
   ]
  },
  {
   "cell_type": "code",
   "execution_count": null,
   "id": "4e76ed28",
   "metadata": {},
   "outputs": [
    {
     "name": "stdout",
     "output_type": "stream",
     "text": [
      "1\n",
      "{2, 4, 5, 6}\n"
     ]
    }
   ],
   "source": [
    "removedEl = mySet.pop() #pop first element\n",
    "print(removedEl)\n",
    "print(mySet)"
   ]
  },
  {
   "cell_type": "code",
   "execution_count": 17,
   "id": "ef5263ca",
   "metadata": {},
   "outputs": [
    {
     "data": {
      "text/plain": [
       "set()"
      ]
     },
     "execution_count": 17,
     "metadata": {},
     "output_type": "execute_result"
    }
   ],
   "source": [
    "mySet.clear()\n",
    "mySet"
   ]
  },
  {
   "cell_type": "code",
   "execution_count": 18,
   "id": "4f749c09",
   "metadata": {},
   "outputs": [
    {
     "name": "stdout",
     "output_type": "stream",
     "text": [
      "True\n",
      "False\n"
     ]
    }
   ],
   "source": [
    "## set membership test\n",
    "mySet = {1,2,3,4,5}\n",
    "print(3 in mySet)\n",
    "print(10 in mySet)"
   ]
  },
  {
   "cell_type": "code",
   "execution_count": 22,
   "id": "09f18576",
   "metadata": {},
   "outputs": [
    {
     "name": "stdout",
     "output_type": "stream",
     "text": [
      "{1, 2, 3, 4, 5, 6, 7, 8, 9}\n",
      "{4, 5, 6}\n",
      "{4, 5, 6}\n"
     ]
    }
   ],
   "source": [
    "set1 = {1,2,3,4,5,6}\n",
    "set2 = {4,5,6,7,8,9}\n",
    "\n",
    "union_set = set1.union(set2)\n",
    "print(union_set)\n",
    "\n",
    "int_set = set1.intersection(set2)\n",
    "print(int_set)\n",
    "\n",
    "set1.intersection_update(set2)\n",
    "print(set1)"
   ]
  },
  {
   "cell_type": "code",
   "execution_count": 29,
   "id": "5daf99e0",
   "metadata": {},
   "outputs": [
    {
     "name": "stdout",
     "output_type": "stream",
     "text": [
      "{1, 2, 3}\n",
      "{8, 9, 7}\n"
     ]
    }
   ],
   "source": [
    "set1 = {1,2,3,4,5,6}\n",
    "set2 = {4,5,6,7,8,9}\n",
    "\n",
    "print(set1.difference(set2))\n",
    "print(set2.difference(set1))\n"
   ]
  },
  {
   "cell_type": "code",
   "execution_count": 32,
   "id": "56af3a8a",
   "metadata": {},
   "outputs": [
    {
     "data": {
      "text/plain": [
       "{1, 2, 3, 7, 8, 9}"
      ]
     },
     "execution_count": 32,
     "metadata": {},
     "output_type": "execute_result"
    }
   ],
   "source": [
    "set1.symmetric_difference(set2) \n",
    "#Return the symmetric difference of two sets as a new set."
   ]
  },
  {
   "cell_type": "code",
   "execution_count": 35,
   "id": "b1afb949",
   "metadata": {},
   "outputs": [
    {
     "name": "stdout",
     "output_type": "stream",
     "text": [
      "False\n",
      "False\n"
     ]
    }
   ],
   "source": [
    "set1 = {1,2,3}\n",
    "set2 = {3,4,5}\n",
    "\n",
    "print(set1.issubset(set2))\n",
    "print(set1.issuperset(set2))"
   ]
  },
  {
   "cell_type": "code",
   "execution_count": 37,
   "id": "e0532978",
   "metadata": {},
   "outputs": [
    {
     "name": "stdout",
     "output_type": "stream",
     "text": [
      "True\n"
     ]
    }
   ],
   "source": [
    "set1 = {1,2,3,4,5}\n",
    "set2 = {3,4,5}\n",
    "\n",
    "print(set1.issuperset(set2))"
   ]
  },
  {
   "cell_type": "code",
   "execution_count": 38,
   "id": "77cf9f4c",
   "metadata": {},
   "outputs": [
    {
     "name": "stdout",
     "output_type": "stream",
     "text": [
      "True\n"
     ]
    }
   ],
   "source": [
    "set1 = {1,2,3}\n",
    "set2 = {1,2,3,4,5}\n",
    "\n",
    "print(set1.issubset(set2))"
   ]
  },
  {
   "cell_type": "code",
   "execution_count": 40,
   "id": "16ef5b4b",
   "metadata": {},
   "outputs": [
    {
     "name": "stdout",
     "output_type": "stream",
     "text": [
      "True\n",
      "False\n"
     ]
    }
   ],
   "source": [
    "set1 = {1,2,3,4,5}\n",
    "set2 = {1,2,3,4,5,6}\n",
    "\n",
    "print(set1.issubset(set2))\n",
    "print(set1.issuperset(set2))"
   ]
  },
  {
   "cell_type": "code",
   "execution_count": 41,
   "id": "c20fa0d9",
   "metadata": {},
   "outputs": [
    {
     "data": {
      "text/plain": [
       "{1, 2, 3, 4, 5, 6, 7}"
      ]
     },
     "execution_count": 41,
     "metadata": {},
     "output_type": "execute_result"
    }
   ],
   "source": [
    "lst = [1,2,3,3,3,4,5,6,7]\n",
    "set(lst)"
   ]
  },
  {
   "cell_type": "code",
   "execution_count": 46,
   "id": "27ca902e",
   "metadata": {},
   "outputs": [
    {
     "name": "stdout",
     "output_type": "stream",
     "text": [
      "{'sets', 'Introduction', 'about'}\n",
      "3\n"
     ]
    }
   ],
   "source": [
    "text = \"Introduction about sets sets\"\n",
    "words = text.split()\n",
    "\n",
    "unique_words = set(words)\n",
    "print(unique_words)\n",
    "print(len(unique_words))"
   ]
  },
  {
   "cell_type": "code",
   "execution_count": null,
   "id": "9cd818a5",
   "metadata": {},
   "outputs": [],
   "source": []
  }
 ],
 "metadata": {
  "kernelspec": {
   "display_name": "Python 3",
   "language": "python",
   "name": "python3"
  },
  "language_info": {
   "codemirror_mode": {
    "name": "ipython",
    "version": 3
   },
   "file_extension": ".py",
   "mimetype": "text/x-python",
   "name": "python",
   "nbconvert_exporter": "python",
   "pygments_lexer": "ipython3",
   "version": "3.10.0"
  }
 },
 "nbformat": 4,
 "nbformat_minor": 5
}
