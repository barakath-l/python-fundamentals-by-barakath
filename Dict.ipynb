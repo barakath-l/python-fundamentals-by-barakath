{
 "cells": [
  {
   "cell_type": "markdown",
   "id": "a7d8a7a5",
   "metadata": {},
   "source": [
    "#### Dictionary\n",
    "\n",
    "- unordered collection of items\n",
    "- store in key-value pairs\n",
    "- key must be unique\n",
    "- immutable "
   ]
  },
  {
   "cell_type": "code",
   "execution_count": 1,
   "id": "0f4f7b79",
   "metadata": {},
   "outputs": [
    {
     "name": "stdout",
     "output_type": "stream",
     "text": [
      "<class 'dict'>\n"
     ]
    }
   ],
   "source": [
    "empty_dict = {}\n",
    "print(type(empty_dict))"
   ]
  },
  {
   "cell_type": "code",
   "execution_count": 2,
   "id": "9c15f96a",
   "metadata": {},
   "outputs": [
    {
     "name": "stdout",
     "output_type": "stream",
     "text": [
      "{}\n"
     ]
    }
   ],
   "source": [
    "empty_dict =  dict()\n",
    "print(empty_dict)"
   ]
  },
  {
   "cell_type": "code",
   "execution_count": 3,
   "id": "f72eea25",
   "metadata": {},
   "outputs": [
    {
     "name": "stdout",
     "output_type": "stream",
     "text": [
      "{'name': 'Barakath', 'age': 32, 'grade': 24}\n",
      "<class 'dict'>\n"
     ]
    }
   ],
   "source": [
    "student = {\n",
    "    \"name\":\"Barakath\",\n",
    "    \"age\" : 32,\n",
    "    \"grade\":24\n",
    "}\n",
    "print(student)\n",
    "print(type(student))"
   ]
  },
  {
   "cell_type": "code",
   "execution_count": 4,
   "id": "13e044ad",
   "metadata": {},
   "outputs": [
    {
     "data": {
      "text/plain": [
       "{'name': 24, 'age': 32}"
      ]
     },
     "execution_count": 4,
     "metadata": {},
     "output_type": "execute_result"
    }
   ],
   "source": [
    "student = {\n",
    "    \"name\":\"Barakath\",\n",
    "    \"age\" : 32,\n",
    "    \"name\":24\n",
    "}\n",
    "student"
   ]
  },
  {
   "cell_type": "code",
   "execution_count": 8,
   "id": "e1b0f470",
   "metadata": {},
   "outputs": [
    {
     "name": "stdout",
     "output_type": "stream",
     "text": [
      "A\n",
      "25\n",
      "A\n",
      "None\n",
      "NA\n"
     ]
    }
   ],
   "source": [
    "student = {\n",
    "    \"name\":\"Barakath\",\n",
    "    \"age\" : 25,\n",
    "    \"grade\":'A'\n",
    "}\n",
    "print(student['grade'])\n",
    "print(student['age'])\n",
    "\n",
    "print(student.get('grade'))\n",
    "print(student.get('last_name'))\n",
    "print(student.get('last_name',\"NA\"))"
   ]
  },
  {
   "cell_type": "code",
   "execution_count": 9,
   "id": "8428205f",
   "metadata": {},
   "outputs": [
    {
     "name": "stdout",
     "output_type": "stream",
     "text": [
      "{'name': 'Barakath', 'age': 25, 'grade': 'A'}\n"
     ]
    }
   ],
   "source": [
    "# Dict - mutable\n",
    "print(student)"
   ]
  },
  {
   "cell_type": "code",
   "execution_count": 10,
   "id": "26e81526",
   "metadata": {},
   "outputs": [
    {
     "name": "stdout",
     "output_type": "stream",
     "text": [
      "{'name': 'Barakath', 'age': 24, 'grade': 'A'}\n",
      "{'name': 'Barakath', 'age': 24, 'grade': 'A', 'address': 'TN'}\n"
     ]
    }
   ],
   "source": [
    "student['age']=24\n",
    "print(student)\n",
    "student['address']=\"TN\"\n",
    "print(student)"
   ]
  },
  {
   "cell_type": "code",
   "execution_count": 11,
   "id": "1b7e01b9",
   "metadata": {},
   "outputs": [
    {
     "name": "stdout",
     "output_type": "stream",
     "text": [
      "{'name': 'Barakath', 'age': 24, 'grade': 'A'}\n"
     ]
    }
   ],
   "source": [
    "del student['address']\n",
    "print(student)"
   ]
  },
  {
   "cell_type": "code",
   "execution_count": 14,
   "id": "f39c57b0",
   "metadata": {},
   "outputs": [
    {
     "name": "stdout",
     "output_type": "stream",
     "text": [
      "dict_keys(['name', 'age', 'grade'])\n",
      "dict_values(['Barakath', 24, 'A'])\n",
      "dict_items([('name', 'Barakath'), ('age', 24), ('grade', 'A')])\n"
     ]
    }
   ],
   "source": [
    "keys = student.keys()\n",
    "print(keys)\n",
    "values = student.values()\n",
    "print(values)\n",
    "items = student.items()\n",
    "print(items)"
   ]
  },
  {
   "cell_type": "code",
   "execution_count": 17,
   "id": "ce53f106",
   "metadata": {},
   "outputs": [
    {
     "name": "stdout",
     "output_type": "stream",
     "text": [
      "{'name': 'Barakath', 'age': 24, 'grade': 'A'}\n",
      "{'name': 'Barakath', 'age': 24, 'grade': 'A'}\n"
     ]
    }
   ],
   "source": [
    "# shallow copy \n",
    "student_copy = student\n",
    "print(student)\n",
    "print(student_copy)"
   ]
  },
  {
   "cell_type": "code",
   "execution_count": 18,
   "id": "06ccfb78",
   "metadata": {},
   "outputs": [
    {
     "name": "stdout",
     "output_type": "stream",
     "text": [
      "{'name': 'Sree', 'age': 24, 'grade': 'A'}\n",
      "{'name': 'Sree', 'age': 24, 'grade': 'A'}\n"
     ]
    }
   ],
   "source": [
    "student['name'] = \"Sree\"\n",
    "print(student)\n",
    "print(student_copy)"
   ]
  },
  {
   "cell_type": "code",
   "execution_count": 20,
   "id": "1e80844c",
   "metadata": {},
   "outputs": [
    {
     "name": "stdout",
     "output_type": "stream",
     "text": [
      "{'name': 'Barakath', 'age': 24, 'grade': 'A'}\n",
      "{'name': 'Sree', 'age': 24, 'grade': 'A'}\n"
     ]
    }
   ],
   "source": [
    "student_copy1 =  student.copy()\n",
    "student['name'] = \"Barakath\"\n",
    "print(student)\n",
    "print(student_copy1)"
   ]
  },
  {
   "cell_type": "code",
   "execution_count": 21,
   "id": "ff6dfe58",
   "metadata": {},
   "outputs": [
    {
     "name": "stdout",
     "output_type": "stream",
     "text": [
      "name\n",
      "age\n",
      "grade\n"
     ]
    }
   ],
   "source": [
    "## iterating dict \n",
    "for keys in student.keys():\n",
    "    print(keys) "
   ]
  },
  {
   "cell_type": "code",
   "execution_count": 22,
   "id": "5a65d83c",
   "metadata": {},
   "outputs": [
    {
     "name": "stdout",
     "output_type": "stream",
     "text": [
      "name Barakath\n",
      "age 24\n",
      "grade A\n"
     ]
    }
   ],
   "source": [
    "for keys, values in student.items():\n",
    "    print(keys,values) "
   ]
  },
  {
   "cell_type": "code",
   "execution_count": 23,
   "id": "a7cf8fcf",
   "metadata": {},
   "outputs": [
    {
     "name": "stdout",
     "output_type": "stream",
     "text": [
      "{'student1': {'Name': 'Barakath', 'Age': 23}, 'student2': {'Name': 'Ganesh', 'Age': 30}}\n"
     ]
    }
   ],
   "source": [
    "students = {\n",
    "    \"student1\":{\"Name\":\"Barakath\",\"Age\":23},\n",
    "    \"student2\":{\"Name\":\"Ganesh\",\"Age\":30}\n",
    "}\n",
    "print(students)"
   ]
  },
  {
   "cell_type": "code",
   "execution_count": 27,
   "id": "aa4bdc31",
   "metadata": {},
   "outputs": [
    {
     "name": "stdout",
     "output_type": "stream",
     "text": [
      "Ganesh\n"
     ]
    }
   ],
   "source": [
    "print(students[\"student2\"]['Name'])"
   ]
  },
  {
   "cell_type": "code",
   "execution_count": 28,
   "id": "8debf93a",
   "metadata": {},
   "outputs": [
    {
     "data": {
      "text/plain": [
       "dict_items([('student1', {'Name': 'Barakath', 'Age': 23}), ('student2', {'Name': 'Ganesh', 'Age': 30})])"
      ]
     },
     "execution_count": 28,
     "metadata": {},
     "output_type": "execute_result"
    }
   ],
   "source": [
    "students.items()"
   ]
  },
  {
   "cell_type": "code",
   "execution_count": 31,
   "id": "5d042bd9",
   "metadata": {},
   "outputs": [
    {
     "name": "stdout",
     "output_type": "stream",
     "text": [
      "student1 {'Name': 'Barakath', 'Age': 23}\n",
      "Name:Barakath\n",
      "Age:23\n",
      "student2 {'Name': 'Ganesh', 'Age': 30}\n",
      "Name:Ganesh\n",
      "Age:30\n"
     ]
    }
   ],
   "source": [
    "for student_id, student_info in students.items():\n",
    "    print(student_id, student_info)\n",
    "    for key, value in student_info.items():\n",
    "        print(f\"{key}:{value}\")"
   ]
  },
  {
   "cell_type": "code",
   "execution_count": 33,
   "id": "bc3cfbc6",
   "metadata": {},
   "outputs": [
    {
     "name": "stdout",
     "output_type": "stream",
     "text": [
      "{0: 0, 1: 1, 2: 4, 3: 9, 4: 16}\n"
     ]
    }
   ],
   "source": [
    "squares = {x:x**2 for x in range(5)}\n",
    "print(squares)"
   ]
  },
  {
   "cell_type": "code",
   "execution_count": 35,
   "id": "f3f61413",
   "metadata": {},
   "outputs": [
    {
     "name": "stdout",
     "output_type": "stream",
     "text": [
      "{0: 0, 2: 4, 4: 16, 6: 36, 8: 64}\n"
     ]
    }
   ],
   "source": [
    "evens  = {x:x**2 for x in range(10) if x%2==0}\n",
    "print(evens)"
   ]
  },
  {
   "cell_type": "code",
   "execution_count": 36,
   "id": "4d70840e",
   "metadata": {},
   "outputs": [
    {
     "name": "stdout",
     "output_type": "stream",
     "text": [
      "{1: 1, 2: 2, 3: 3, 4: 4}\n"
     ]
    }
   ],
   "source": [
    "numbers = [1,2,2,3,3,3,4,4,4,4]\n",
    "frequency = {}\n",
    "\n",
    "for number in numbers:\n",
    "    if number in frequency:\n",
    "        frequency[number]+=1\n",
    "    else:\n",
    "        frequency[number] =1\n",
    "print(frequency)"
   ]
  },
  {
   "cell_type": "code",
   "execution_count": 37,
   "id": "57e0398b",
   "metadata": {},
   "outputs": [
    {
     "data": {
      "text/plain": [
       "{'a': 1, 'b': 3, 'c': 4}"
      ]
     },
     "execution_count": 37,
     "metadata": {},
     "output_type": "execute_result"
    }
   ],
   "source": [
    "dict1 = {\"a\":1,\"b\":2}\n",
    "dict2 = {\"b\":3,\"c\":4}\n",
    "merged_dict = {**dict1,**dict2}\n",
    "merged_dict"
   ]
  },
  {
   "cell_type": "code",
   "execution_count": null,
   "id": "570ead8f",
   "metadata": {},
   "outputs": [],
   "source": []
  }
 ],
 "metadata": {
  "kernelspec": {
   "display_name": "Python 3",
   "language": "python",
   "name": "python3"
  },
  "language_info": {
   "codemirror_mode": {
    "name": "ipython",
    "version": 3
   },
   "file_extension": ".py",
   "mimetype": "text/x-python",
   "name": "python",
   "nbconvert_exporter": "python",
   "pygments_lexer": "ipython3",
   "version": "3.10.0"
  }
 },
 "nbformat": 4,
 "nbformat_minor": 5
}
