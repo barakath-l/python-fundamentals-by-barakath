{
 "cells": [
  {
   "cell_type": "markdown",
   "id": "1ab214e9",
   "metadata": {},
   "source": [
    "## Polymorphism"
   ]
  },
  {
   "cell_type": "code",
   "execution_count": 4,
   "id": "77227efc",
   "metadata": {},
   "outputs": [
    {
     "name": "stdout",
     "output_type": "stream",
     "text": [
      "Woof!\n",
      "Meow!\n",
      "Woof!\n"
     ]
    }
   ],
   "source": [
    "# base class\n",
    "class Animal:\n",
    "    def speak(self):\n",
    "        return \"Sound of the animal\"\n",
    "\n",
    "# derived class 1\n",
    "class Dog(Animal):\n",
    "    def speak(self):\n",
    "        return \"Woof!\"\n",
    "    \n",
    "# derived class 2 \n",
    "class Cat(Animal):\n",
    "    def speak(self):\n",
    "        return \"Meow!\"\n",
    "    \n",
    "def animal_speak(animal):\n",
    "    return animal.speak()\n",
    "\n",
    "dog = Dog()\n",
    "cat = Cat()\n",
    "print(dog.speak())\n",
    "print(cat.speak())\n",
    "print(animal_speak(dog))"
   ]
  },
  {
   "cell_type": "code",
   "execution_count": 17,
   "id": "cc070651",
   "metadata": {},
   "outputs": [
    {
     "name": "stdout",
     "output_type": "stream",
     "text": [
      "Area:12\n",
      "Area:78.5\n",
      "---------------\n",
      "Area:78.5\n"
     ]
    }
   ],
   "source": [
    "## base class \n",
    "class Shape:\n",
    "    def area(self):\n",
    "        return f\"The area of the figure\"\n",
    "    \n",
    "# derived class 1\n",
    "class Rectangle(Shape):\n",
    "    def __init__(self, width, height):\n",
    "        self.width = width\n",
    "        self.height = height \n",
    "            \n",
    "    def area(self):\n",
    "        res = self.width * self.height\n",
    "        return f\"Area:{res}\"\n",
    "\n",
    "# derived class 2\n",
    "class Circle(Shape):\n",
    "    def __init__(self,radius):\n",
    "        self.radius = radius\n",
    "    \n",
    "    def area(self):\n",
    "        res = 3.14* self.radius*self.radius\n",
    "        return f\"Area:{res}\"\n",
    "\n",
    "def print_area(Shape):\n",
    "    return f\"{Shape.area()}\"\n",
    "\n",
    "rec = Rectangle(3,4)\n",
    "print(rec.area()) \n",
    "cir = Circle(5)\n",
    "print(cir.area())\n",
    "print(\"---------------\")\n",
    "print(print_area(cir))"
   ]
  },
  {
   "cell_type": "code",
   "execution_count": null,
   "id": "7e162f56",
   "metadata": {},
   "outputs": [],
   "source": []
  }
 ],
 "metadata": {
  "kernelspec": {
   "display_name": "Python 3",
   "language": "python",
   "name": "python3"
  },
  "language_info": {
   "codemirror_mode": {
    "name": "ipython",
    "version": 3
   },
   "file_extension": ".py",
   "mimetype": "text/x-python",
   "name": "python",
   "nbconvert_exporter": "python",
   "pygments_lexer": "ipython3",
   "version": "3.10.0"
  }
 },
 "nbformat": 4,
 "nbformat_minor": 5
}
