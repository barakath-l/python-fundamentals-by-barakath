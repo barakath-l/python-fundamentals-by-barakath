{
 "cells": [
  {
   "cell_type": "code",
   "execution_count": 1,
   "id": "32aef64f",
   "metadata": {},
   "outputs": [
    {
     "data": {
      "text/plain": [
       "6"
      ]
     },
     "execution_count": 1,
     "metadata": {},
     "output_type": "execute_result"
    }
   ],
   "source": [
    "# Linear Search Algorithm \n",
    "def linearSearch(arr, target):\n",
    "    for i in range(len(arr)):\n",
    "        if arr[i] == target:return i\n",
    "    return -1\n",
    "lst = [12,23,345,3,45,1,232]\n",
    "target = 232\n",
    "linearSearch(lst,target)\n"
   ]
  },
  {
   "cell_type": "code",
   "execution_count": 2,
   "id": "b9238af2",
   "metadata": {},
   "outputs": [
    {
     "data": {
      "text/plain": [
       "2"
      ]
     },
     "execution_count": 2,
     "metadata": {},
     "output_type": "execute_result"
    }
   ],
   "source": [
    "#Binary Search Algorithm\n",
    "def binarySearch(arr,target):\n",
    "    start = 0\n",
    "    end = len(arr)-1\n",
    "    while(start<=end):\n",
    "        mid = (start+end)//2\n",
    "        if arr[mid]==target:\n",
    "            return mid\n",
    "        elif arr[mid]<target:\n",
    "            start = mid+1\n",
    "        elif arr[mid]>target:\n",
    "            end = mid-1\n",
    "    return -1\n",
    "lst =[10,23,35,47,59,63,75,82,90,100]\n",
    "target = 35\n",
    "binarySearch(lst, target)\n"
   ]
  }
 ],
 "metadata": {
  "kernelspec": {
   "display_name": "Python 3",
   "language": "python",
   "name": "python3"
  },
  "language_info": {
   "codemirror_mode": {
    "name": "ipython",
    "version": 3
   },
   "file_extension": ".py",
   "mimetype": "text/x-python",
   "name": "python",
   "nbconvert_exporter": "python",
   "pygments_lexer": "ipython3",
   "version": "3.10.0"
  }
 },
 "nbformat": 4,
 "nbformat_minor": 5
}
