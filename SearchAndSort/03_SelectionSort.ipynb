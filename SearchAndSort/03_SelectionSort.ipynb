{
 "cells": [
  {
   "cell_type": "code",
   "execution_count": 1,
   "id": "48431649",
   "metadata": {},
   "outputs": [
    {
     "name": "stdout",
     "output_type": "stream",
     "text": [
      "[1, 2, 12, 23, 34, 45, 56]\n"
     ]
    }
   ],
   "source": [
    "# Selection Sort\n",
    "def selectionSort(arr):\n",
    "    size  = len(arr)\n",
    "    start = 0\n",
    "    end   = size \n",
    "    while start != end:\n",
    "        trueMin = start\n",
    "        for i in range(start+1,end):\n",
    "            if arr[i]<arr[trueMin]:\n",
    "                arr[i], arr[trueMin] = arr[trueMin],arr[i]\n",
    "        start +=1\n",
    "    return arr\n",
    "        \n",
    "\n",
    "lst = [23,12,45,56,2,1,34]\n",
    "# lst = [5,4,3,2,1,5,5]\n",
    "sorted_lst = selectionSort(lst)\n",
    "print(sorted_lst)"
   ]
  }
 ],
 "metadata": {
  "kernelspec": {
   "display_name": "Python 3",
   "language": "python",
   "name": "python3"
  },
  "language_info": {
   "codemirror_mode": {
    "name": "ipython",
    "version": 3
   },
   "file_extension": ".py",
   "mimetype": "text/x-python",
   "name": "python",
   "nbconvert_exporter": "python",
   "pygments_lexer": "ipython3",
   "version": "3.10.0"
  }
 },
 "nbformat": 4,
 "nbformat_minor": 5
}
